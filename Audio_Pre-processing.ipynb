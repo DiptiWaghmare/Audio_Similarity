{
 "cells": [
  {
   "cell_type": "code",
   "execution_count": 1,
   "id": "3b26cc45-cca2-4bab-bb4d-3753c637289f",
   "metadata": {},
   "outputs": [],
   "source": [
    "import tarfile\n",
    "import os\n",
    "\n",
    "def extract_dataset(tar_path, extract_to):\n",
    "    with tarfile.open(tar_path, 'r:gz') as tar:\n",
    "        members = tar.getmembers()\n",
    "\n",
    "        lang_code = os.path.basename(tar_path).split('-')[-1].replace('.tar.gz', '')\n",
    "\n",
    "        root_prefix = None\n",
    "        for m in members:\n",
    "            if f\"/{lang_code}/\" in m.name:\n",
    "                root_prefix = m.name.split(f\"{lang_code}/\")[0] + f\"{lang_code}/\"\n",
    "                break\n",
    "\n",
    "        if root_prefix is None:\n",
    "            print(f\"Couldn't determine folder structure for: {tar_path}\")\n",
    "            return\n",
    "\n",
    "        os.makedirs(extract_to, exist_ok=True)\n",
    "\n",
    "        for member in members:\n",
    "            if member.name.startswith(root_prefix):\n",
    "                member.name = os.path.relpath(member.name, root_prefix)\n",
    "                if member.name == '.':  \n",
    "                    continue\n",
    "                tar.extract(member, path=extract_to)\n",
    "\n",
    "        print(f\"Extracted {lang_code.upper()} to: {extract_to} (flattened)\")\n"
   ]
  },
  {
   "cell_type": "code",
   "execution_count": 2,
   "id": "d178cc4f-3600-4105-ae11-5f9fac993421",
   "metadata": {},
   "outputs": [],
   "source": [
    "extract_dataset(\n",
    "    \"cv-corpus-21.0-delta-2025-03-14-en.tar.gz\",\n",
    "    r\"C:\\Users\\WAGHMARE\\Desktop\\Research Project\\commonvoice_en\"\n",
    ")"
   ]
  },
  {
   "cell_type": "code",
   "execution_count": 3,
   "id": "432bb1a3-bed9-4e7a-a9d1-d0037b763ede",
   "metadata": {},
   "outputs": [],
   "source": [
    "extract_dataset(\n",
    "    \"cv-corpus-21.0-2025-03-14-hi.tar.gz\",\n",
    "    r\"C:\\Users\\WAGHMARE\\Desktop\\Research Project\\commonvoice_hi\"\n",
    ")"
   ]
  },
  {
   "cell_type": "code",
   "execution_count": 4,
   "id": "6166544b-54c0-4df3-a9d6-7d9a477ca23e",
   "metadata": {},
   "outputs": [],
   "source": [
    "pip install pydub tqdm"
   ]
  },
  {
   "cell_type": "code",
   "execution_count": 5,
   "id": "21a1eef7-a97c-467b-8919-fc1e88f63cd5",
   "metadata": {},
   "outputs": [
    {
     "name": "stdout",
     "output_type": "stream",
     "text": [
      "✅ Filtered validated.tsv to 10979 entries with existing files.\n"
     ]
    }
   ],
   "source": [
    "import os\n",
    "\n",
    "clips_folder = r\"C:\\Users\\WAGHMARE\\Desktop\\Research Project\\commonvoice_hi\\clips\"\n",
    "validated_tsv = r\"C:\\Users\\WAGHMARE\\Desktop\\Research Project\\commonvoice_hi\\validated.tsv\"\n",
    "existing_files = set(os.listdir(clips_folder))\n",
    "\n",
    "with open(validated_tsv, 'r', encoding='utf-8') as f:\n",
    "    lines = f.readlines()\n",
    "\n",
    "header = lines[0]\n",
    "valid_lines = [header]\n",
    "\n",
    "for line in lines[1:]:\n",
    "    parts = line.strip().split('\\t')\n",
    "    if len(parts) > 1:\n",
    "        filename = parts[1]\n",
    "        if filename in existing_files:\n",
    "            valid_lines.append(line)\n",
    "\n",
    "output_filtered_tsv = os.path.join(\n",
    "    r\"C:\\Users\\WAGHMARE\\Desktop\\Research Project\\commonvoice_hi\", \"validated_filtered.tsv\"\n",
    ")\n",
    "\n",
    "with open(output_filtered_tsv, 'w', encoding='utf-8') as f:\n",
    "    f.writelines(valid_lines)\n",
    "\n",
    "print(f\"Filtered validated.tsv to {len(valid_lines)-1} entries with existing files.\")"
   ]
  },
  {
   "cell_type": "code",
   "execution_count": 6,
   "id": "75f0cdd9-7930-47c5-9e0b-ae28174e016e",
   "metadata": {},
   "outputs": [
    {
     "name": "stdout",
     "output_type": "stream",
     "text": [
      "✅ Filtered validated.tsv to 249 entries with existing files.\n"
     ]
    }
   ],
   "source": [
    "import os\n",
    "\n",
    "clips_folder = r\"C:\\Users\\WAGHMARE\\Desktop\\Research Project\\commonvoice_en\\clips\"\n",
    "validated_tsv = r\"C:\\Users\\WAGHMARE\\Desktop\\Research Project\\commonvoice_en\\validated.tsv\"\n",
    "existing_files = set(os.listdir(clips_folder))\n",
    "\n",
    "with open(validated_tsv, 'r', encoding='utf-8') as f:\n",
    "    lines = f.readlines()\n",
    "\n",
    "header = lines[0]\n",
    "valid_lines = [header]\n",
    "\n",
    "for line in lines[1:]:\n",
    "    parts = line.strip().split('\\t')\n",
    "    if len(parts) > 1:\n",
    "        filename = parts[1]\n",
    "        if filename in existing_files:\n",
    "            valid_lines.append(line)\n",
    "\n",
    "output_filtered_tsv = os.path.join(\n",
    "    r\"C:\\Users\\WAGHMARE\\Desktop\\Research Project\\commonvoice_en\", \"validated_filtered.tsv\"\n",
    ")\n",
    "\n",
    "with open(output_filtered_tsv, 'w', encoding='utf-8') as f:\n",
    "    f.writelines(valid_lines)\n",
    "\n",
    "print(f\"Filtered validated.tsv to {len(valid_lines)-1} entries with existing files.\")"
   ]
  },
  {
   "cell_type": "code",
   "execution_count": 7,
   "id": "b9b219e4-9a3b-41c2-a192-3d480be6abce",
   "metadata": {},
   "outputs": [
    {
     "name": "stdout",
     "output_type": "stream",
     "text": [
      "FFmpeg manually set to: C:\\Users\\WAGHMARE\\Downloads\\ffmpeg-7.1.1-essentials_build\\bin\\ffmpeg.exe\n",
      "FFmpeg found by which(): C:\\Users\\WAGHMARE\\Downloads\\ffmpeg-7.1.1-essentials_build\\bin\\ffmpeg.exe\n"
     ]
    },
    {
     "name": "stderr",
     "output_type": "stream",
     "text": [
      "C:\\Users\\WAGHMARE\\AppData\\Roaming\\Python\\Python311\\site-packages\\pydub\\utils.py:170: RuntimeWarning: Couldn't find ffmpeg or avconv - defaulting to ffmpeg, but may not work\n",
      "  warn(\"Couldn't find ffmpeg or avconv - defaulting to ffmpeg, but may not work\", RuntimeWarning)\n"
     ]
    }
   ],
   "source": [
    "import os\n",
    "from pydub import AudioSegment\n",
    "from pydub.utils import which\n",
    "\n",
    "ffmpeg_path = r\"C:\\Users\\WAGHMARE\\Downloads\\ffmpeg-7.1.1-essentials_build\\bin\\ffmpeg.exe\"\n",
    "AudioSegment.converter = ffmpeg_path\n",
    "os.environ[\"PATH\"] += os.pathsep + os.path.dirname(ffmpeg_path)\n",
    "\n",
    "print(\"FFmpeg manually set to:\", AudioSegment.converter)\n",
    "print(\"FFmpeg found by which():\", which(\"ffmpeg\"))"
   ]
  },
  {
   "cell_type": "code",
   "execution_count": 8,
   "id": "936d0c75-b107-4143-8d07-b70f8abcb5f6",
   "metadata": {},
   "outputs": [],
   "source": [
    "import os\n",
    "import pandas as pd\n",
    "import shutil\n",
    "from pydub import AudioSegment\n",
    "from tqdm import tqdm\n",
    "\n",
    "def prepare_data(language_folder, output_folder, max_samples_per_speaker=10):\n",
    "    validated_file = os.path.join(language_folder, \"validated_filtered.tsv\")\n",
    "\n",
    "    if not os.path.exists(validated_file):\n",
    "        print(f\"Error: {validated_file} does not exist!\")\n",
    "        return\n",
    "\n",
    "    df = pd.read_csv(validated_file, sep=\"\\t\")\n",
    "\n",
    "    if 'client_id' not in df.columns or 'path' not in df.columns:\n",
    "        print(\"Error: validated_filtered.tsv missing required columns.\")\n",
    "        return\n",
    "\n",
    "    # Drop rows with missing 'path' or 'client_id'\n",
    "    df = df[df['path'].notnull() & df['client_id'].notnull()]\n",
    "\n",
    "    # Group by speaker and limit samples\n",
    "    grouped = df.groupby(\"client_id\").head(max_samples_per_speaker)\n",
    "\n",
    "    print(f\"Total unique speakers in {language_folder}: {df['client_id'].nunique()}\")\n",
    "    print(f\"Preparing data for {grouped['client_id'].nunique()} speakers\")\n",
    "\n",
    "    clips_folder = os.path.join(language_folder, \"clips\")\n",
    "\n",
    "    if not os.path.exists(clips_folder):\n",
    "        print(f\"Error: Clips folder not found at {clips_folder}\")\n",
    "        return\n",
    "\n",
    "    os.makedirs(output_folder, exist_ok=True)\n",
    "\n",
    "    for _, row in tqdm(grouped.iterrows(), total=len(grouped), desc=\"Converting MP3 to WAV\"):\n",
    "        client_id = row['client_id']\n",
    "        filename = row['path']\n",
    "        mp3_path = os.path.join(clips_folder, filename)\n",
    "\n",
    "        if not os.path.exists(mp3_path):\n",
    "            print(f\"File missing: {mp3_path}\")\n",
    "            continue\n",
    "\n",
    "        speaker_folder = os.path.join(output_folder, client_id)\n",
    "        os.makedirs(speaker_folder, exist_ok=True)\n",
    "\n",
    "        wav_filename = filename.replace(\".mp3\", \".wav\")\n",
    "        wav_path = os.path.join(speaker_folder, wav_filename)\n",
    "\n",
    "        try:\n",
    "            audio = AudioSegment.from_mp3(mp3_path)\n",
    "            audio.export(wav_path, format=\"wav\")\n",
    "        except Exception as e:\n",
    "            print(f\"Error converting {mp3_path}: {e}\")\n",
    "\n",
    "    print(\"Data preparation complete.\")"
   ]
  },
  {
   "cell_type": "code",
   "execution_count": 11,
   "id": "c158f541-0ce7-4c80-9fcb-4d6249f472d4",
   "metadata": {},
   "outputs": [
    {
     "name": "stdout",
     "output_type": "stream",
     "text": [
      "👤 Total unique speakers in C:\\Users\\WAGHMARE\\Desktop\\Research Project\\commonvoice_hi: 351\n",
      "🎯 Preparing data for 351 speakers\n"
     ]
    },
    {
     "name": "stderr",
     "output_type": "stream",
     "text": [
      "🔄 Converting MP3 to WAV: 100%|████████████████████████████████████████████████████| 1891/1891 [05:10<00:00,  6.09it/s]"
     ]
    },
    {
     "name": "stdout",
     "output_type": "stream",
     "text": [
      "✅ Data preparation complete.\n"
     ]
    },
    {
     "name": "stderr",
     "output_type": "stream",
     "text": [
      "\n"
     ]
    }
   ],
   "source": [
    "prepare_data(\n",
    "    language_folder=r\"C:\\Users\\WAGHMARE\\Desktop\\Research Project\\commonvoice_hi\",\n",
    "    output_folder=r\"C:\\Users\\WAGHMARE\\Desktop\\Research Project\\processed_hi\",\n",
    "    max_samples_per_speaker=10\n",
    ")"
   ]
  },
  {
   "cell_type": "code",
   "execution_count": 12,
   "id": "9929cc59-8064-4de5-a1d7-208fdd0e54ad",
   "metadata": {},
   "outputs": [
    {
     "name": "stdout",
     "output_type": "stream",
     "text": [
      "👤 Total unique speakers in C:\\Users\\WAGHMARE\\Desktop\\Research Project\\commonvoice_en: 47\n",
      "🎯 Preparing data for 47 speakers\n"
     ]
    },
    {
     "name": "stderr",
     "output_type": "stream",
     "text": [
      "🔄 Converting MP3 to WAV: 100%|██████████████████████████████████████████████████████| 125/125 [00:23<00:00,  5.31it/s]"
     ]
    },
    {
     "name": "stdout",
     "output_type": "stream",
     "text": [
      "✅ Data preparation complete.\n"
     ]
    },
    {
     "name": "stderr",
     "output_type": "stream",
     "text": [
      "\n"
     ]
    }
   ],
   "source": [
    "prepare_data(\n",
    "    language_folder=r\"C:\\Users\\WAGHMARE\\Desktop\\Research Project\\commonvoice_en\",\n",
    "    output_folder=r\"C:\\Users\\WAGHMARE\\Desktop\\Research Project\\processed_en\",\n",
    "    max_samples_per_speaker=10\n",
    ")"
   ]
  }
 ],
 "metadata": {
  "kernelspec": {
   "display_name": "Python 3 (ipykernel)",
   "language": "python",
   "name": "python3"
  },
  "language_info": {
   "codemirror_mode": {
    "name": "ipython",
    "version": 3
   },
   "file_extension": ".py",
   "mimetype": "text/x-python",
   "name": "python",
   "nbconvert_exporter": "python",
   "pygments_lexer": "ipython3",
   "version": "3.11.4"
  }
 },
 "nbformat": 4,
 "nbformat_minor": 5
}
